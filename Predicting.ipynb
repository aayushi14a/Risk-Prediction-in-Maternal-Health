{
 "cells": [
  {
   "cell_type": "code",
   "execution_count": 6,
   "id": "f50a767e-f3a3-4191-b781-10a0b065f150",
   "metadata": {},
   "outputs": [],
   "source": [
    "import joblib\n",
    "import numpy as np\n",
    "import pandas as pd\n",
    "import matplotlib.pyplot as plt\n",
    "import seaborn as sns"
   ]
  },
  {
   "cell_type": "code",
   "execution_count": 7,
   "id": "1361b2f1-3e1b-4448-9d64-d9762f3ab5f2",
   "metadata": {},
   "outputs": [],
   "source": [
    "model = joblib.load('dtc.joblib')"
   ]
  },
  {
   "cell_type": "code",
   "execution_count": 8,
   "id": "f32ccd99-9943-40d9-b199-4de3d9c5fc98",
   "metadata": {},
   "outputs": [],
   "source": [
    "data = pd.read_csv(r'collectedData.csv')"
   ]
  },
  {
   "cell_type": "code",
   "execution_count": 9,
   "id": "cbbf3ee3-e301-44c4-ad32-ba981ed40c39",
   "metadata": {},
   "outputs": [
    {
     "data": {
      "text/html": [
       "<div>\n",
       "<style scoped>\n",
       "    .dataframe tbody tr th:only-of-type {\n",
       "        vertical-align: middle;\n",
       "    }\n",
       "\n",
       "    .dataframe tbody tr th {\n",
       "        vertical-align: top;\n",
       "    }\n",
       "\n",
       "    .dataframe thead th {\n",
       "        text-align: right;\n",
       "    }\n",
       "</style>\n",
       "<table border=\"1\" class=\"dataframe\">\n",
       "  <thead>\n",
       "    <tr style=\"text-align: right;\">\n",
       "      <th></th>\n",
       "      <th>Age</th>\n",
       "      <th>SystolicBP</th>\n",
       "      <th>DiastolicBP</th>\n",
       "      <th>BodyTemp</th>\n",
       "      <th>HeartRate</th>\n",
       "    </tr>\n",
       "  </thead>\n",
       "  <tbody>\n",
       "    <tr>\n",
       "      <th>0</th>\n",
       "      <td>19</td>\n",
       "      <td>120</td>\n",
       "      <td>80</td>\n",
       "      <td>98</td>\n",
       "      <td>70</td>\n",
       "    </tr>\n",
       "    <tr>\n",
       "      <th>1</th>\n",
       "      <td>25</td>\n",
       "      <td>110</td>\n",
       "      <td>89</td>\n",
       "      <td>98</td>\n",
       "      <td>77</td>\n",
       "    </tr>\n",
       "    <tr>\n",
       "      <th>2</th>\n",
       "      <td>48</td>\n",
       "      <td>120</td>\n",
       "      <td>80</td>\n",
       "      <td>98</td>\n",
       "      <td>88</td>\n",
       "    </tr>\n",
       "    <tr>\n",
       "      <th>3</th>\n",
       "      <td>15</td>\n",
       "      <td>120</td>\n",
       "      <td>80</td>\n",
       "      <td>98</td>\n",
       "      <td>70</td>\n",
       "    </tr>\n",
       "    <tr>\n",
       "      <th>4</th>\n",
       "      <td>50</td>\n",
       "      <td>140</td>\n",
       "      <td>90</td>\n",
       "      <td>98</td>\n",
       "      <td>90</td>\n",
       "    </tr>\n",
       "  </tbody>\n",
       "</table>\n",
       "</div>"
      ],
      "text/plain": [
       "   Age  SystolicBP  DiastolicBP  BodyTemp  HeartRate\n",
       "0   19         120           80        98         70\n",
       "1   25         110           89        98         77\n",
       "2   48         120           80        98         88\n",
       "3   15         120           80        98         70\n",
       "4   50         140           90        98         90"
      ]
     },
     "execution_count": 9,
     "metadata": {},
     "output_type": "execute_result"
    }
   ],
   "source": [
    "data.head()"
   ]
  },
  {
   "cell_type": "code",
   "execution_count": 13,
   "id": "59989b30-6ad9-47d1-abf7-ceb24d1802b0",
   "metadata": {},
   "outputs": [],
   "source": [
    "npdata = data.values"
   ]
  },
  {
   "cell_type": "code",
   "execution_count": 17,
   "id": "78095df1-1799-4aa2-8120-80b91f1d2510",
   "metadata": {},
   "outputs": [],
   "source": [
    "from sklearn.preprocessing import StandardScaler\n",
    "sc = StandardScaler()\n",
    "x = sc.fit_transform(npdata)"
   ]
  },
  {
   "cell_type": "code",
   "execution_count": 28,
   "id": "38fc2e8c-1c92-4512-a137-68f700c9de48",
   "metadata": {},
   "outputs": [
    {
     "name": "stdout",
     "output_type": "stream",
     "text": [
      "[1 1 0 1 0 1 1 0 2 1 1 1 0 0 1 2 0 1]\n"
     ]
    }
   ],
   "source": [
    "predictions = model.predict(x)\n",
    "\n",
    "# Print the predictions\n",
    "print(predictions)"
   ]
  },
  {
   "cell_type": "code",
   "execution_count": 31,
   "id": "0bb548cc-19f3-4425-9201-930ada0ffee1",
   "metadata": {},
   "outputs": [
    {
     "name": "stdout",
     "output_type": "stream",
     "text": [
      "Indexes of High Risk: [2, 4, 7, 12, 13, 16]\n",
      "Indexes of Mid Risk: [0, 1, 3, 5, 6, 9, 10, 11, 14, 17]\n",
      "Indexes of Low Risk: [8, 15]\n"
     ]
    }
   ],
   "source": [
    "# Map predictions to risk levels\n",
    "risk_levels = {0: 'high risk', 1: 'mid risk', 2: 'low risk'}\n",
    "decoded_predictions = [risk_levels[prediction] for prediction in predictions]\n",
    "\n",
    "# Get the indexes\n",
    "indexes = range(len(new_predictions))\n",
    "\n",
    "# Get the indexes for each risk level\n",
    "high_risk_indexes = [index for index, risk_level in enumerate(decoded_predictions) if risk_level == 'high risk']\n",
    "mid_risk_indexes = [index for index, risk_level in enumerate(decoded_predictions) if risk_level == 'mid risk']\n",
    "low_risk_indexes = [index for index, risk_level in enumerate(decoded_predictions) if risk_level == 'low risk']\n",
    "\n",
    "# Print the filtered indexes\n",
    "print(\"Indexes of High Risk:\", high_risk_indexes)\n",
    "print(\"Indexes of Mid Risk:\", mid_risk_indexes)\n",
    "print(\"Indexes of Low Risk:\", low_risk_indexes)"
   ]
  },
  {
   "cell_type": "code",
   "execution_count": 32,
   "id": "c7d0860b-cf00-43a3-aad1-0e9517eb95ef",
   "metadata": {},
   "outputs": [
    {
     "data": {
      "image/png": "[encoded data removed]",
      "text/plain": [
       "<Figure size 800x600 with 1 Axes>"
      ]
     },
     "metadata": {},
     "output_type": "display_data"
    }
   ],
   "source": [
    "# Count of indexes for each risk level\n",
    "counts = [len(high_risk_indexes), len(mid_risk_indexes), len(low_risk_indexes)]\n",
    "risk_labels = ['High Risk', 'Mid Risk', 'Low Risk']\n",
    "\n",
    "# Plot the bar chart\n",
    "plt.figure(figsize=(8, 6))\n",
    "plt.bar(risk_labels, counts, color=['red', 'orange', 'green'])\n",
    "plt.title('Count of Indexes for Each Risk Level')\n",
    "plt.xlabel('Risk Level')\n",
    "plt.ylabel('Count')\n",
    "plt.show()\n"
   ]
  },
  {
   "cell_type": "code",
   "execution_count": null,
   "id": "192bbe7e-9de1-40fd-b242-e329d22cdbd6",
   "metadata": {},
   "outputs": [],
   "source": []
  }
 ],
 "metadata": {
  "kernelspec": {
   "display_name": "Python 3 (ipykernel)",
   "language": "python",
   "name": "python3"
  },
  "language_info": {
   "codemirror_mode": {
    "name": "ipython",
    "version": 3
   },
   "file_extension": ".py",
   "mimetype": "text/x-python",
   "name": "python",
   "nbconvert_exporter": "python",
   "pygments_lexer": "ipython3",
   "version": "3.11.9"
  }
 },
 "nbformat": 4,
 "nbformat_minor": 5
}
